{
 "cells": [
  {
   "cell_type": "markdown",
   "metadata": {},
   "source": [
    "Website Link (Hosted on GitHub Pages)\n",
    "\n",
    "https://rohangd03.github.io/Medical_Insurance_Prdiction/\n",
    "\n",
    "What this code contains:\n",
    "- A Linear Regression model built from scratch based on given dataset\n",
    "- Predict Medical charges based on user input"
   ]
  },
  {
   "cell_type": "markdown",
   "metadata": {},
   "source": [
    "## [1] Importing dependencies"
   ]
  },
  {
   "cell_type": "code",
   "execution_count": 29,
   "metadata": {},
   "outputs": [],
   "source": [
    "import math\n",
    "import numpy as np\n",
    "import pandas as pd\n",
    "import matplotlib.pyplot as plt\n",
    "import seaborn as sns\n",
    "from sklearn.model_selection import train_test_split\n",
    "import tensorflow as tf\n",
    "from sklearn.linear_model import LinearRegression\n",
    "from sklearn import metrics\n",
    "from sklearn.metrics import mean_squared_error"
   ]
  },
  {
   "cell_type": "markdown",
   "metadata": {},
   "source": [
    "## [2] Data Collection and Analysis"
   ]
  },
  {
   "cell_type": "code",
   "execution_count": 2,
   "metadata": {},
   "outputs": [
    {
     "data": {
      "text/html": [
       "<div>\n",
       "<style scoped>\n",
       "    .dataframe tbody tr th:only-of-type {\n",
       "        vertical-align: middle;\n",
       "    }\n",
       "\n",
       "    .dataframe tbody tr th {\n",
       "        vertical-align: top;\n",
       "    }\n",
       "\n",
       "    .dataframe thead th {\n",
       "        text-align: right;\n",
       "    }\n",
       "</style>\n",
       "<table border=\"1\" class=\"dataframe\">\n",
       "  <thead>\n",
       "    <tr style=\"text-align: right;\">\n",
       "      <th></th>\n",
       "      <th>age</th>\n",
       "      <th>sex</th>\n",
       "      <th>bmi</th>\n",
       "      <th>children</th>\n",
       "      <th>smoker</th>\n",
       "      <th>region</th>\n",
       "      <th>charges</th>\n",
       "    </tr>\n",
       "  </thead>\n",
       "  <tbody>\n",
       "    <tr>\n",
       "      <th>0</th>\n",
       "      <td>19</td>\n",
       "      <td>female</td>\n",
       "      <td>27.900</td>\n",
       "      <td>0</td>\n",
       "      <td>yes</td>\n",
       "      <td>southwest</td>\n",
       "      <td>16884.92400</td>\n",
       "    </tr>\n",
       "    <tr>\n",
       "      <th>1</th>\n",
       "      <td>18</td>\n",
       "      <td>male</td>\n",
       "      <td>33.770</td>\n",
       "      <td>1</td>\n",
       "      <td>no</td>\n",
       "      <td>southeast</td>\n",
       "      <td>1725.55230</td>\n",
       "    </tr>\n",
       "    <tr>\n",
       "      <th>2</th>\n",
       "      <td>28</td>\n",
       "      <td>male</td>\n",
       "      <td>33.000</td>\n",
       "      <td>3</td>\n",
       "      <td>no</td>\n",
       "      <td>southeast</td>\n",
       "      <td>4449.46200</td>\n",
       "    </tr>\n",
       "    <tr>\n",
       "      <th>3</th>\n",
       "      <td>33</td>\n",
       "      <td>male</td>\n",
       "      <td>22.705</td>\n",
       "      <td>0</td>\n",
       "      <td>no</td>\n",
       "      <td>northwest</td>\n",
       "      <td>21984.47061</td>\n",
       "    </tr>\n",
       "    <tr>\n",
       "      <th>4</th>\n",
       "      <td>32</td>\n",
       "      <td>male</td>\n",
       "      <td>28.880</td>\n",
       "      <td>0</td>\n",
       "      <td>no</td>\n",
       "      <td>northwest</td>\n",
       "      <td>3866.85520</td>\n",
       "    </tr>\n",
       "  </tbody>\n",
       "</table>\n",
       "</div>"
      ],
      "text/plain": [
       "   age     sex     bmi  children smoker     region      charges\n",
       "0   19  female  27.900         0    yes  southwest  16884.92400\n",
       "1   18    male  33.770         1     no  southeast   1725.55230\n",
       "2   28    male  33.000         3     no  southeast   4449.46200\n",
       "3   33    male  22.705         0     no  northwest  21984.47061\n",
       "4   32    male  28.880         0     no  northwest   3866.85520"
      ]
     },
     "execution_count": 2,
     "metadata": {},
     "output_type": "execute_result"
    }
   ],
   "source": [
    "# Loading the dataset\n",
    "dataset = pd.read_csv('data_insurance.csv')\n",
    "\n",
    "# Reading the dataset\n",
    "# Getting an overview of the dataset\n",
    "dataset.head()"
   ]
  },
  {
   "cell_type": "code",
   "execution_count": 3,
   "metadata": {},
   "outputs": [
    {
     "data": {
      "text/plain": [
       "(1338, 7)"
      ]
     },
     "execution_count": 3,
     "metadata": {},
     "output_type": "execute_result"
    }
   ],
   "source": [
    "# Number of rows and columns in the dataset\n",
    "dataset.shape"
   ]
  },
  {
   "cell_type": "code",
   "execution_count": 4,
   "metadata": {},
   "outputs": [
    {
     "name": "stdout",
     "output_type": "stream",
     "text": [
      "<class 'pandas.core.frame.DataFrame'>\n",
      "RangeIndex: 1338 entries, 0 to 1337\n",
      "Data columns (total 7 columns):\n",
      " #   Column    Non-Null Count  Dtype  \n",
      "---  ------    --------------  -----  \n",
      " 0   age       1338 non-null   int64  \n",
      " 1   sex       1338 non-null   object \n",
      " 2   bmi       1338 non-null   float64\n",
      " 3   children  1338 non-null   int64  \n",
      " 4   smoker    1338 non-null   object \n",
      " 5   region    1338 non-null   object \n",
      " 6   charges   1338 non-null   float64\n",
      "dtypes: float64(2), int64(2), object(3)\n",
      "memory usage: 73.3+ KB\n"
     ]
    }
   ],
   "source": [
    "# Getting information about the columns in the dataset\n",
    "dataset.info()"
   ]
  },
  {
   "cell_type": "markdown",
   "metadata": {},
   "source": [
    "Categorical columns:\n",
    "- Sex\n",
    "- Smoker\n",
    "- Region"
   ]
  },
  {
   "cell_type": "code",
   "execution_count": 5,
   "metadata": {},
   "outputs": [
    {
     "data": {
      "text/plain": [
       "age         0\n",
       "sex         0\n",
       "bmi         0\n",
       "children    0\n",
       "smoker      0\n",
       "region      0\n",
       "charges     0\n",
       "dtype: int64"
      ]
     },
     "execution_count": 5,
     "metadata": {},
     "output_type": "execute_result"
    }
   ],
   "source": [
    "# Looking for missing data\n",
    "dataset.isnull().sum()\n",
    "\n",
    "# Result shows no missing values"
   ]
  },
  {
   "cell_type": "code",
   "execution_count": 6,
   "metadata": {},
   "outputs": [
    {
     "data": {
      "text/html": [
       "<div>\n",
       "<style scoped>\n",
       "    .dataframe tbody tr th:only-of-type {\n",
       "        vertical-align: middle;\n",
       "    }\n",
       "\n",
       "    .dataframe tbody tr th {\n",
       "        vertical-align: top;\n",
       "    }\n",
       "\n",
       "    .dataframe thead th {\n",
       "        text-align: right;\n",
       "    }\n",
       "</style>\n",
       "<table border=\"1\" class=\"dataframe\">\n",
       "  <thead>\n",
       "    <tr style=\"text-align: right;\">\n",
       "      <th></th>\n",
       "      <th>age</th>\n",
       "      <th>bmi</th>\n",
       "      <th>children</th>\n",
       "      <th>charges</th>\n",
       "    </tr>\n",
       "  </thead>\n",
       "  <tbody>\n",
       "    <tr>\n",
       "      <th>count</th>\n",
       "      <td>1338.000000</td>\n",
       "      <td>1338.000000</td>\n",
       "      <td>1338.000000</td>\n",
       "      <td>1338.000000</td>\n",
       "    </tr>\n",
       "    <tr>\n",
       "      <th>mean</th>\n",
       "      <td>39.207025</td>\n",
       "      <td>30.663397</td>\n",
       "      <td>1.094918</td>\n",
       "      <td>13270.422265</td>\n",
       "    </tr>\n",
       "    <tr>\n",
       "      <th>std</th>\n",
       "      <td>14.049960</td>\n",
       "      <td>6.098187</td>\n",
       "      <td>1.205493</td>\n",
       "      <td>12110.011237</td>\n",
       "    </tr>\n",
       "    <tr>\n",
       "      <th>min</th>\n",
       "      <td>18.000000</td>\n",
       "      <td>15.960000</td>\n",
       "      <td>0.000000</td>\n",
       "      <td>1121.873900</td>\n",
       "    </tr>\n",
       "    <tr>\n",
       "      <th>25%</th>\n",
       "      <td>27.000000</td>\n",
       "      <td>26.296250</td>\n",
       "      <td>0.000000</td>\n",
       "      <td>4740.287150</td>\n",
       "    </tr>\n",
       "    <tr>\n",
       "      <th>50%</th>\n",
       "      <td>39.000000</td>\n",
       "      <td>30.400000</td>\n",
       "      <td>1.000000</td>\n",
       "      <td>9382.033000</td>\n",
       "    </tr>\n",
       "    <tr>\n",
       "      <th>75%</th>\n",
       "      <td>51.000000</td>\n",
       "      <td>34.693750</td>\n",
       "      <td>2.000000</td>\n",
       "      <td>16639.912515</td>\n",
       "    </tr>\n",
       "    <tr>\n",
       "      <th>max</th>\n",
       "      <td>64.000000</td>\n",
       "      <td>53.130000</td>\n",
       "      <td>5.000000</td>\n",
       "      <td>63770.428010</td>\n",
       "    </tr>\n",
       "  </tbody>\n",
       "</table>\n",
       "</div>"
      ],
      "text/plain": [
       "               age          bmi     children       charges\n",
       "count  1338.000000  1338.000000  1338.000000   1338.000000\n",
       "mean     39.207025    30.663397     1.094918  13270.422265\n",
       "std      14.049960     6.098187     1.205493  12110.011237\n",
       "min      18.000000    15.960000     0.000000   1121.873900\n",
       "25%      27.000000    26.296250     0.000000   4740.287150\n",
       "50%      39.000000    30.400000     1.000000   9382.033000\n",
       "75%      51.000000    34.693750     2.000000  16639.912515\n",
       "max      64.000000    53.130000     5.000000  63770.428010"
      ]
     },
     "execution_count": 6,
     "metadata": {},
     "output_type": "execute_result"
    }
   ],
   "source": [
    "dataset.describe()"
   ]
  },
  {
   "cell_type": "markdown",
   "metadata": {},
   "source": [
    "Visualization of the data parameters - Age, BMI and Sex\n",
    "\n",
    "Observations: <br>\n",
    "Age: Maximum patients are young adults ~ 20 years old <br>\n",
    "BMI: Median = 30 <br>\n",
    "Sex: Males and Females almost in equal proportion <br>"
   ]
  },
  {
   "cell_type": "code",
   "execution_count": 7,
   "metadata": {},
   "outputs": [
    {
     "data": {
      "text/plain": [
       "<Figure size 600x600 with 0 Axes>"
      ]
     },
     "metadata": {},
     "output_type": "display_data"
    },
    {
     "data": {
      "image/png": "[encoded data removed]",
      "text/plain": [
       "<Figure size 500x500 with 1 Axes>"
      ]
     },
     "metadata": {},
     "output_type": "display_data"
    },
    {
     "data": {
      "text/plain": [
       "<Figure size 600x600 with 0 Axes>"
      ]
     },
     "metadata": {},
     "output_type": "display_data"
    },
    {
     "data": {
      "image/png": "[encoded data removed]",
      "text/plain": [
       "<Figure size 500x500 with 1 Axes>"
      ]
     },
     "metadata": {},
     "output_type": "display_data"
    },
    {
     "data": {
      "image/png": "[encoded data removed]",
      "text/plain": [
       "<Figure size 600x600 with 1 Axes>"
      ]
     },
     "metadata": {},
     "output_type": "display_data"
    }
   ],
   "source": [
    "# Distribution of Age values\n",
    "sns.set()\n",
    "plt.figure(figsize=(6, 6))\n",
    "sns.displot(dataset['age'])\n",
    "plt.title('Distribution of Age values')\n",
    "plt.show()\n",
    "\n",
    "# Distribution of BMI values\n",
    "sns.set()\n",
    "plt.figure(figsize=(6, 6))\n",
    "sns.displot(dataset['bmi'])\n",
    "plt.title('Distribution of BMI')\n",
    "plt.show()\n",
    "\n",
    "# Distribution of gender\n",
    "sns.set()\n",
    "plt.figure(figsize=(6, 6))\n",
    "sns.countplot(x = 'sex', data = dataset)\n",
    "plt.title('Distribution of BMI')\n",
    "plt.show()"
   ]
  },
  {
   "cell_type": "code",
   "execution_count": 8,
   "metadata": {},
   "outputs": [
    {
     "data": {
      "text/plain": [
       "male      676\n",
       "female    662\n",
       "Name: sex, dtype: int64"
      ]
     },
     "execution_count": 8,
     "metadata": {},
     "output_type": "execute_result"
    }
   ],
   "source": [
    "# No. of occurences of each gender\n",
    "\n",
    "dataset['sex'].value_counts()"
   ]
  },
  {
   "cell_type": "markdown",
   "metadata": {},
   "source": [
    "### No. of Children distribution\n",
    "\n",
    "Observation: Majority of patients do not have children"
   ]
  },
  {
   "cell_type": "code",
   "execution_count": 9,
   "metadata": {},
   "outputs": [
    {
     "data": {
      "image/png": "[encoded data removed]",
      "text/plain": [
       "<Figure size 600x600 with 1 Axes>"
      ]
     },
     "metadata": {},
     "output_type": "display_data"
    },
    {
     "data": {
      "text/plain": [
       "0    574\n",
       "1    324\n",
       "2    240\n",
       "3    157\n",
       "4     25\n",
       "5     18\n",
       "Name: children, dtype: int64"
      ]
     },
     "execution_count": 9,
     "metadata": {},
     "output_type": "execute_result"
    }
   ],
   "source": [
    "# Count plot of no. of children values\n",
    "sns.set()\n",
    "plt.figure(figsize = (6, 6))\n",
    "sns.countplot(x = 'children', data = dataset)\n",
    "plt.title('Distribution of No. of children')\n",
    "plt.show()\n",
    "\n",
    "# Data regarding distribution of no. of children\n",
    "dataset['children'].value_counts()"
   ]
  },
  {
   "cell_type": "markdown",
   "metadata": {},
   "source": [
    "### Smoking habits distribution\n",
    "\n",
    "Observation: More non smokers than smokers"
   ]
  },
  {
   "cell_type": "code",
   "execution_count": 10,
   "metadata": {},
   "outputs": [
    {
     "data": {
      "image/png": "[encoded data removed]",
      "text/plain": [
       "<Figure size 600x600 with 1 Axes>"
      ]
     },
     "metadata": {},
     "output_type": "display_data"
    },
    {
     "data": {
      "text/plain": [
       "no     1064\n",
       "yes     274\n",
       "Name: smoker, dtype: int64"
      ]
     },
     "execution_count": 10,
     "metadata": {},
     "output_type": "execute_result"
    }
   ],
   "source": [
    "sns.set()\n",
    "plt.figure(figsize = (6, 6))\n",
    "sns.countplot(x = 'smoker', data = dataset)\n",
    "plt.title('smoker')\n",
    "plt.show()\n",
    "\n",
    "dataset['smoker'].value_counts()"
   ]
  },
  {
   "cell_type": "markdown",
   "metadata": {},
   "source": [
    "### Distribution of patients by region  \n",
    "\n",
    "Observation: More patients are from the south-east, rest are evenly divided among the three regions"
   ]
  },
  {
   "cell_type": "code",
   "execution_count": 11,
   "metadata": {},
   "outputs": [
    {
     "data": {
      "image/png": "[encoded data removed]",
      "text/plain": [
       "<Figure size 600x600 with 1 Axes>"
      ]
     },
     "metadata": {},
     "output_type": "display_data"
    }
   ],
   "source": [
    "sns.set()\n",
    "plt.figure(figsize = (6, 6))\n",
    "sns.countplot(x = 'region', data = dataset)\n",
    "plt.title('Distribution by region')\n",
    "plt.show()"
   ]
  },
  {
   "cell_type": "markdown",
   "metadata": {},
   "source": [
    "Distribution of charges/expenses"
   ]
  },
  {
   "cell_type": "code",
   "execution_count": 12,
   "metadata": {},
   "outputs": [
    {
     "data": {
      "text/plain": [
       "<Figure size 600x600 with 0 Axes>"
      ]
     },
     "metadata": {},
     "output_type": "display_data"
    },
    {
     "data": {
      "image/png": "[encoded data removed]",
      "text/plain": [
       "<Figure size 500x500 with 1 Axes>"
      ]
     },
     "metadata": {},
     "output_type": "display_data"
    }
   ],
   "source": [
    "plt.figure(figsize = (6, 6))\n",
    "sns.displot(dataset['charges'])\n",
    "plt.title('Distribution of expenses incurred')\n",
    "plt.show()"
   ]
  },
  {
   "cell_type": "markdown",
   "metadata": {},
   "source": [
    "## [3] Convert categorical variables to Numerical values"
   ]
  },
  {
   "cell_type": "code",
   "execution_count": 13,
   "metadata": {},
   "outputs": [],
   "source": [
    "dataset.replace({'sex': {'male': 0, 'female': 1}}, inplace = True)\n",
    "dataset.replace({'smoker': {'yes': 1, 'no': 0}}, inplace = True)\n",
    "dataset.replace({'region': {'southeast': 0, 'southwest': 1, 'northeast': 2, 'northwest': 3}}, inplace = True)"
   ]
  },
  {
   "cell_type": "markdown",
   "metadata": {},
   "source": [
    "Store MAX and MIN values from each parameter"
   ]
  },
  {
   "cell_type": "code",
   "execution_count": 14,
   "metadata": {},
   "outputs": [
    {
     "name": "stdout",
     "output_type": "stream",
     "text": [
      "[[18.   64.  ]\n",
      " [ 0.    1.  ]\n",
      " [15.96 53.13]\n",
      " [ 0.    5.  ]\n",
      " [ 0.    1.  ]\n",
      " [ 0.    3.  ]]\n"
     ]
    }
   ],
   "source": [
    "dataset_ = dataset\n",
    "\n",
    "age_min = dataset_['age'].min()\n",
    "age_max = dataset_['age'].max()\n",
    "bmi_min = dataset_['bmi'].min()\n",
    "bmi_max = dataset_['bmi'].max()\n",
    "children_min = dataset_['children'].min()\n",
    "children_max = dataset_['children'].max()\n",
    "charges_min = dataset_['charges'].min()\n",
    "charges_max = dataset_['charges'].max()\n",
    "\n",
    "age_values = [age_min, age_max]\n",
    "sex_values = [0, 1]\n",
    "bmi_values = [bmi_min, bmi_max]\n",
    "children_values = [children_min, children_max]\n",
    "smoker_values = [0, 1]\n",
    "region_values = [0, 3]\n",
    "charges_values = [charges_min, charges_max]\n",
    "\n",
    "dataset_ranges = np.array([age_values, sex_values, bmi_values, children_values, smoker_values, region_values])\n",
    "print(dataset_ranges)"
   ]
  },
  {
   "cell_type": "markdown",
   "metadata": {},
   "source": [
    "Normalize the columns"
   ]
  },
  {
   "cell_type": "code",
   "execution_count": 15,
   "metadata": {},
   "outputs": [],
   "source": [
    "# Function to normalize a column\n",
    "\n",
    "def normalize_column(column):\n",
    "    min_val = column.min()\n",
    "    max_val = column.max()\n",
    "    return (column - min_val) / (max_val - min_val)"
   ]
  },
  {
   "cell_type": "code",
   "execution_count": 16,
   "metadata": {},
   "outputs": [],
   "source": [
    "dataset['age'] = normalize_column(dataset['age'])\n",
    "dataset['sex'] = normalize_column(dataset['sex'])\n",
    "dataset['bmi'] = normalize_column(dataset['bmi'])\n",
    "dataset['children'] = normalize_column(dataset['children'])\n",
    "dataset['smoker'] = normalize_column(dataset['smoker'])\n",
    "dataset['region'] = normalize_column(dataset['region'])\n",
    "dataset['charges'] = normalize_column(dataset['charges'])"
   ]
  },
  {
   "cell_type": "markdown",
   "metadata": {},
   "source": [
    "### Splitting the FEATURES and the TARGET"
   ]
  },
  {
   "cell_type": "code",
   "execution_count": 17,
   "metadata": {},
   "outputs": [],
   "source": [
    "x = dataset.drop(columns = 'charges', axis = 1)\n",
    "y = dataset['charges']\n",
    "\n",
    "x = x.to_numpy()\n",
    "y = y.to_numpy()\n",
    "y = y.reshape(-1, 1)"
   ]
  },
  {
   "cell_type": "markdown",
   "metadata": {},
   "source": [
    "### Splitting the dataset into TRAINING and TESTING\n",
    "\n",
    "- random_state shuffles the data before splitting it\n",
    "- The dataset is split into 80% for training and 20% for testing"
   ]
  },
  {
   "cell_type": "code",
   "execution_count": 18,
   "metadata": {},
   "outputs": [
    {
     "name": "stdout",
     "output_type": "stream",
     "text": [
      "Training dataset =  79.97010463378177 %\n",
      "Testing dataset =  20.029895366218238 %\n"
     ]
    }
   ],
   "source": [
    "x_train, x_test, y_train, y_test = train_test_split(x, y, test_size = 0.2, random_state = 2)\n",
    "\n",
    "print(\"Training dataset = \", (x_train.shape[0]/x.shape[0])*100, \"%\")\n",
    "print(\"Testing dataset = \", (x_test.shape[0]/x.shape[0])*100, \"%\")"
   ]
  },
  {
   "cell_type": "markdown",
   "metadata": {},
   "source": [
    "## Linear Regression MODEL TRAINING"
   ]
  },
  {
   "cell_type": "code",
   "execution_count": 19,
   "metadata": {},
   "outputs": [
    {
     "name": "stdout",
     "output_type": "stream",
     "text": [
      "age : weight = [0.13008869592869882]\n",
      "sex : weight = [0.025958570280473284]\n",
      "bmi : weight = [0.0999625389020312]\n",
      "children : weight = [0.047311752935391825]\n",
      "smoker : weight = [0.23563099742923793]\n",
      "region : weight = [0.04601299740598737]\n"
     ]
    }
   ],
   "source": [
    "learning_rate = 0.001\n",
    "iterations = 5000\n",
    "error_list = []\n",
    "\n",
    "weights = np.array([0.0, 0.0, 0.0, 0.0, 0.0, 0.0])\n",
    "weights = weights.reshape(-1, 1)\n",
    "\n",
    "for i in range(iterations):\n",
    "    prediction = np.dot(x_train, weights)\n",
    "    error = prediction - y_train\n",
    "    error_list.append(error.mean())\n",
    "\n",
    "    # Minimum error BREAK condition\n",
    "    if(abs(error_list[i]) > abs(error_list[i-1])):\n",
    "        break\n",
    "\n",
    "    delta = np.dot(x_train.T, error)/len(y_train)\n",
    "    weights = weights - learning_rate * delta\n",
    "\n",
    "weights_list = weights.tolist()\n",
    "columns = ['age', 'sex', 'bmi', 'children', 'smoker', 'region']\n",
    "\n",
    "for i in range(6):\n",
    "    print(f\"{columns[i]} : weight = {weights_list[i]}\")"
   ]
  },
  {
   "cell_type": "markdown",
   "metadata": {},
   "source": [
    "## OBSERVATIONS\n",
    "\n",
    "Most significant factor = \"smoker\" <br>\n",
    "Least significant factor = \"sex\""
   ]
  },
  {
   "cell_type": "markdown",
   "metadata": {},
   "source": [
    "Plot reduction in error with iterations"
   ]
  },
  {
   "cell_type": "code",
   "execution_count": 20,
   "metadata": {},
   "outputs": [
    {
     "data": {
      "image/png": "[encoded data removed]",
      "text/plain": [
       "<Figure size 640x480 with 1 Axes>"
      ]
     },
     "metadata": {},
     "output_type": "display_data"
    }
   ],
   "source": [
    "rng = np.arange(1, len(error_list) + 1)\n",
    "rng = np.log(rng)\n",
    "error_list = np.array(error_list)\n",
    "error_list = np.abs(error_list)\n",
    "\n",
    "plt.plot(rng, error_list)\n",
    "plt.xlabel(\"log(Iterations)\")\n",
    "plt.ylabel(\"Error\")\n",
    "plt.show()"
   ]
  },
  {
   "cell_type": "markdown",
   "metadata": {},
   "source": [
    "$R^2$ value for training data"
   ]
  },
  {
   "cell_type": "code",
   "execution_count": 21,
   "metadata": {},
   "outputs": [
    {
     "name": "stdout",
     "output_type": "stream",
     "text": [
      "R^2 value for training data: 0.6255\n"
     ]
    }
   ],
   "source": [
    "y_mean = np.mean(y_train)\n",
    "\n",
    "# Mean of actual y values\n",
    "ss_tot = np.sum((y_train - y_mean) ** 2)\n",
    "\n",
    "# Residual sum of squares\n",
    "ss_res = np.sum((y_train - prediction) ** 2)\n",
    "\n",
    "# Calculate R^2 value\n",
    "r_squared = 1 - (ss_res / ss_tot)\n",
    "\n",
    "print(f\"R^2 value for training data: {r_squared:.4f}\")"
   ]
  },
  {
   "cell_type": "markdown",
   "metadata": {},
   "source": [
    "Mean squared error on TRAINING data"
   ]
  },
  {
   "cell_type": "code",
   "execution_count": 22,
   "metadata": {},
   "outputs": [
    {
     "name": "stdout",
     "output_type": "stream",
     "text": [
      "Mean square error for  training data = 14.86\n"
     ]
    }
   ],
   "source": [
    "mse = 0.0\n",
    "for i in range(len(prediction)):\n",
    "    mse = mse + ((prediction[i] - y_train[i])**2).item()\n",
    "\n",
    "print(f\"Mean square error for  training data = {mse:0.2f}\")"
   ]
  },
  {
   "cell_type": "markdown",
   "metadata": {},
   "source": [
    "### Accuracy on Testing data"
   ]
  },
  {
   "cell_type": "code",
   "execution_count": 23,
   "metadata": {},
   "outputs": [
    {
     "name": "stdout",
     "output_type": "stream",
     "text": [
      "Accuracy = 98.60 %\n"
     ]
    }
   ],
   "source": [
    "y_predictions = np.dot(x_test, weights)\n",
    "\n",
    "sum_test = np.sum(y_test)\n",
    "sum_prediction = np.sum(y_predictions)\n",
    "bias = abs((sum_test - sum_prediction)/sum_test)\n",
    "accuracy = 1 - bias\n",
    "\n",
    "print(f\"Accuracy = {accuracy*100:0.2f} %\")"
   ]
  },
  {
   "cell_type": "markdown",
   "metadata": {},
   "source": [
    "$R^2$ value for TESTING data"
   ]
  },
  {
   "cell_type": "code",
   "execution_count": 1,
   "metadata": {},
   "outputs": [
    {
     "ename": "NameError",
     "evalue": "name 'np' is not defined",
     "output_type": "error",
     "traceback": [
      "\u001b[1;31m---------------------------------------------------------------------------\u001b[0m",
      "\u001b[1;31mNameError\u001b[0m                                 Traceback (most recent call last)",
      "Cell \u001b[1;32mIn[1], line 1\u001b[0m\n\u001b[1;32m----> 1\u001b[0m y_mean \u001b[38;5;241m=\u001b[39m np\u001b[38;5;241m.\u001b[39mmean(y_test)\n\u001b[0;32m      3\u001b[0m \u001b[38;5;66;03m# Mean of actual y values\u001b[39;00m\n\u001b[0;32m      4\u001b[0m ss_tot \u001b[38;5;241m=\u001b[39m np\u001b[38;5;241m.\u001b[39msum((y_test \u001b[38;5;241m-\u001b[39m y_mean) \u001b[38;5;241m*\u001b[39m\u001b[38;5;241m*\u001b[39m \u001b[38;5;241m2\u001b[39m)\n",
      "\u001b[1;31mNameError\u001b[0m: name 'np' is not defined"
     ]
    }
   ],
   "source": [
    "y_mean = np.mean(y_test)\n",
    "\n",
    "# Mean of actual y values\n",
    "ss_tot = np.sum((y_test - y_mean) ** 2)\n",
    "\n",
    "# Residual sum of squares\n",
    "ss_res = np.sum((y_test - y_predictions) ** 2)\n",
    "\n",
    "# Calculate R^2 value\n",
    "r_squared = 1 - (ss_res / ss_tot)\n",
    "\n",
    "print(f\"R^2 value for training data: {r_squared:.4f}\")"
   ]
  },
  {
   "cell_type": "markdown",
   "metadata": {},
   "source": [
    "Mean squared error for TESTING DATA"
   ]
  },
  {
   "cell_type": "code",
   "execution_count": 25,
   "metadata": {},
   "outputs": [
    {
     "name": "stdout",
     "output_type": "stream",
     "text": [
      "Mean square error for testing data = 3.80\n"
     ]
    }
   ],
   "source": [
    "mse = 0.0\n",
    "for i in range(len(y_predictions)):\n",
    "    mse = mse + ((y_predictions[i] - y_test[i])**2).item()\n",
    "\n",
    "print(f\"Mean square error for testing data = {mse:0.2f}\")"
   ]
  },
  {
   "cell_type": "markdown",
   "metadata": {},
   "source": [
    "## TESTING ON INPUT PARAMETERS"
   ]
  },
  {
   "cell_type": "code",
   "execution_count": 26,
   "metadata": {},
   "outputs": [],
   "source": [
    "age = float(input(\"Enter age: \"))\n",
    "sex = int(input(\"Enter sex (0 for male/1 for female): \"))\n",
    "bmi = float(input(\"Enter BMI: \"))\n",
    "children = int(input(\"Enter number of children: \"))\n",
    "smoker = int(input(\"Enter smoker status (0 for non-smoker, 1 for smoker): \"))\n",
    "region = int(input(\"Enter region (0 - southeast, 1 - southwest, 2 - northeast, 3 - northwest): \"))"
   ]
  },
  {
   "cell_type": "markdown",
   "metadata": {},
   "source": [
    "Processing of data before feeding into Linear Regression model\n",
    "\n",
    "Normalization of Input parameters"
   ]
  },
  {
   "cell_type": "code",
   "execution_count": 27,
   "metadata": {},
   "outputs": [],
   "source": [
    "input_ = [age, sex, bmi, children, smoker, region]\n",
    "parameters = []\n",
    "i = 0\n",
    "\n",
    "for row in dataset_ranges:\n",
    "    normalized_input = (input_[i] - row[0])/(row[1] - row[0])\n",
    "    parameters.append(normalized_input)\n",
    "    i = i + 1\n",
    "\n",
    "parameters = np.array(parameters)"
   ]
  },
  {
   "cell_type": "markdown",
   "metadata": {},
   "source": [
    "## RESULTS"
   ]
  },
  {
   "cell_type": "code",
   "execution_count": 28,
   "metadata": {},
   "outputs": [
    {
     "name": "stdout",
     "output_type": "stream",
     "text": [
      "Predicted Medical Insurance charge: 3795.94 USD\n"
     ]
    }
   ],
   "source": [
    "normalized_charges = np.dot(parameters, weights) + bias\n",
    "actual_charges = (charges_min + normalized_charges * (charges_max - charges_min)).item()\n",
    "\n",
    "print(f\"Predicted Medical Insurance charge: {actual_charges:0.2f} USD\")"
   ]
  }
 ],
 "metadata": {
  "kernelspec": {
   "display_name": "base",
   "language": "python",
   "name": "python3"
  },
  "language_info": {
   "codemirror_mode": {
    "name": "ipython",
    "version": 3
   },
   "file_extension": ".py",
   "mimetype": "text/x-python",
   "name": "python",
   "nbconvert_exporter": "python",
   "pygments_lexer": "ipython3",
   "version": "3.11.4"
  }
 },
 "nbformat": 4,
 "nbformat_minor": 2
}
